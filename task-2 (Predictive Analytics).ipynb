{
 "cells": [
  {
   "cell_type": "code",
   "execution_count": 1,
   "metadata": {
    "ExecuteTime": {
     "end_time": "2020-09-06T13:32:16.747941Z",
     "start_time": "2020-09-06T13:31:34.861307Z"
    }
   },
   "outputs": [],
   "source": [
    "#importing necessary tools and libraries\n",
    "import numpy as np\n",
    "import pandas as pd\n",
    "import warnings\n",
    "warnings.filterwarnings('ignore')\n",
    "pd.set_option('display.max_columns',50)\n",
    "from sklearn.metrics import *\n",
    "import matplotlib.pyplot as plt\n",
    "import seaborn as sns\n",
    "%matplotlib inline"
   ]
  },
  {
   "cell_type": "code",
   "execution_count": 2,
   "metadata": {
    "ExecuteTime": {
     "end_time": "2020-09-06T13:32:22.024707Z",
     "start_time": "2020-09-06T13:32:16.756738Z"
    }
   },
   "outputs": [],
   "source": [
    "#importing dataset\n",
    "df= pd.read_excel('ANZ synthesised transaction dataset.xlsx')"
   ]
  },
  {
   "cell_type": "code",
   "execution_count": 3,
   "metadata": {
    "ExecuteTime": {
     "end_time": "2020-09-06T13:32:22.194764Z",
     "start_time": "2020-09-06T13:32:22.027661Z"
    },
    "scrolled": true
   },
   "outputs": [
    {
     "data": {
      "text/html": [
       "<div>\n",
       "<style scoped>\n",
       "    .dataframe tbody tr th:only-of-type {\n",
       "        vertical-align: middle;\n",
       "    }\n",
       "\n",
       "    .dataframe tbody tr th {\n",
       "        vertical-align: top;\n",
       "    }\n",
       "\n",
       "    .dataframe thead th {\n",
       "        text-align: right;\n",
       "    }\n",
       "</style>\n",
       "<table border=\"1\" class=\"dataframe\">\n",
       "  <thead>\n",
       "    <tr style=\"text-align: right;\">\n",
       "      <th></th>\n",
       "      <th>status</th>\n",
       "      <th>card_present_flag</th>\n",
       "      <th>bpay_biller_code</th>\n",
       "      <th>account</th>\n",
       "      <th>currency</th>\n",
       "      <th>long_lat</th>\n",
       "      <th>txn_description</th>\n",
       "      <th>merchant_id</th>\n",
       "      <th>merchant_code</th>\n",
       "      <th>first_name</th>\n",
       "      <th>balance</th>\n",
       "      <th>date</th>\n",
       "      <th>gender</th>\n",
       "      <th>age</th>\n",
       "      <th>merchant_suburb</th>\n",
       "      <th>merchant_state</th>\n",
       "      <th>extraction</th>\n",
       "      <th>amount</th>\n",
       "      <th>transaction_id</th>\n",
       "      <th>country</th>\n",
       "      <th>customer_id</th>\n",
       "      <th>merchant_long_lat</th>\n",
       "      <th>movement</th>\n",
       "    </tr>\n",
       "  </thead>\n",
       "  <tbody>\n",
       "    <tr>\n",
       "      <th>0</th>\n",
       "      <td>authorized</td>\n",
       "      <td>1.0</td>\n",
       "      <td>NaN</td>\n",
       "      <td>ACC-1598451071</td>\n",
       "      <td>AUD</td>\n",
       "      <td>153.41 -27.95</td>\n",
       "      <td>POS</td>\n",
       "      <td>81c48296-73be-44a7-befa-d053f48ce7cd</td>\n",
       "      <td>NaN</td>\n",
       "      <td>Diana</td>\n",
       "      <td>35.39</td>\n",
       "      <td>2018-08-01</td>\n",
       "      <td>F</td>\n",
       "      <td>26</td>\n",
       "      <td>Ashmore</td>\n",
       "      <td>QLD</td>\n",
       "      <td>2018-08-01T01:01:15.000+0000</td>\n",
       "      <td>16.25</td>\n",
       "      <td>a623070bfead4541a6b0fff8a09e706c</td>\n",
       "      <td>Australia</td>\n",
       "      <td>CUS-2487424745</td>\n",
       "      <td>153.38 -27.99</td>\n",
       "      <td>debit</td>\n",
       "    </tr>\n",
       "    <tr>\n",
       "      <th>1</th>\n",
       "      <td>authorized</td>\n",
       "      <td>0.0</td>\n",
       "      <td>NaN</td>\n",
       "      <td>ACC-1598451071</td>\n",
       "      <td>AUD</td>\n",
       "      <td>153.41 -27.95</td>\n",
       "      <td>SALES-POS</td>\n",
       "      <td>830a451c-316e-4a6a-bf25-e37caedca49e</td>\n",
       "      <td>NaN</td>\n",
       "      <td>Diana</td>\n",
       "      <td>21.20</td>\n",
       "      <td>2018-08-01</td>\n",
       "      <td>F</td>\n",
       "      <td>26</td>\n",
       "      <td>Sydney</td>\n",
       "      <td>NSW</td>\n",
       "      <td>2018-08-01T01:13:45.000+0000</td>\n",
       "      <td>14.19</td>\n",
       "      <td>13270a2a902145da9db4c951e04b51b9</td>\n",
       "      <td>Australia</td>\n",
       "      <td>CUS-2487424745</td>\n",
       "      <td>151.21 -33.87</td>\n",
       "      <td>debit</td>\n",
       "    </tr>\n",
       "  </tbody>\n",
       "</table>\n",
       "</div>"
      ],
      "text/plain": [
       "       status  card_present_flag bpay_biller_code         account currency  \\\n",
       "0  authorized                1.0              NaN  ACC-1598451071      AUD   \n",
       "1  authorized                0.0              NaN  ACC-1598451071      AUD   \n",
       "\n",
       "        long_lat txn_description                           merchant_id  \\\n",
       "0  153.41 -27.95             POS  81c48296-73be-44a7-befa-d053f48ce7cd   \n",
       "1  153.41 -27.95       SALES-POS  830a451c-316e-4a6a-bf25-e37caedca49e   \n",
       "\n",
       "   merchant_code first_name  balance       date gender  age merchant_suburb  \\\n",
       "0            NaN      Diana    35.39 2018-08-01      F   26         Ashmore   \n",
       "1            NaN      Diana    21.20 2018-08-01      F   26          Sydney   \n",
       "\n",
       "  merchant_state                    extraction  amount  \\\n",
       "0            QLD  2018-08-01T01:01:15.000+0000   16.25   \n",
       "1            NSW  2018-08-01T01:13:45.000+0000   14.19   \n",
       "\n",
       "                     transaction_id    country     customer_id  \\\n",
       "0  a623070bfead4541a6b0fff8a09e706c  Australia  CUS-2487424745   \n",
       "1  13270a2a902145da9db4c951e04b51b9  Australia  CUS-2487424745   \n",
       "\n",
       "  merchant_long_lat movement  \n",
       "0     153.38 -27.99    debit  \n",
       "1     151.21 -33.87    debit  "
      ]
     },
     "execution_count": 3,
     "metadata": {},
     "output_type": "execute_result"
    }
   ],
   "source": [
    "df.head(2)"
   ]
  },
  {
   "cell_type": "code",
   "execution_count": 4,
   "metadata": {
    "ExecuteTime": {
     "end_time": "2020-09-06T13:32:22.741740Z",
     "start_time": "2020-09-06T13:32:22.204159Z"
    }
   },
   "outputs": [
    {
     "data": {
      "text/plain": [
       "SALES-POS     3934\n",
       "POS           3783\n",
       "PAYMENT       2600\n",
       "PAY/SALARY     883\n",
       "INTER BANK     742\n",
       "PHONE BANK     101\n",
       "Name: txn_description, dtype: int64"
      ]
     },
     "execution_count": 4,
     "metadata": {},
     "output_type": "execute_result"
    }
   ],
   "source": [
    "df['txn_description'].value_counts()"
   ]
  },
  {
   "cell_type": "code",
   "execution_count": 5,
   "metadata": {
    "ExecuteTime": {
     "end_time": "2020-09-06T13:32:23.394651Z",
     "start_time": "2020-09-06T13:32:22.751734Z"
    }
   },
   "outputs": [],
   "source": [
    "#dataframe containing information relating to salary\n",
    "df_salary = pd.DataFrame(df[df['txn_description']=='PAY/SALARY']).reset_index()\n",
    "\n",
    "#dataframe containing information relating to all other transactions(sales, pos, payment, interbank, phonebank)\n",
    "df_other_txn = pd.DataFrame(df[df['txn_description']!='PAY/SALARY']).reset_index()\n"
   ]
  },
  {
   "cell_type": "code",
   "execution_count": 6,
   "metadata": {
    "ExecuteTime": {
     "end_time": "2020-09-06T13:32:24.092580Z",
     "start_time": "2020-09-06T13:32:23.397504Z"
    }
   },
   "outputs": [],
   "source": [
    "#group data for further analysis\n",
    "df1= df_salary.groupby('customer_id').mean()\n",
    "df2= df_salary.groupby('customer_id').count()\n",
    "df3= df_salary.groupby('customer_id').sum()\n",
    "# df_max= df.groupby('customer_id').max()\n",
    "# df_min= df.groupby('customer_id').min()\n",
    "df_4= df_other_txn.groupby('customer_id').mean()"
   ]
  },
  {
   "cell_type": "code",
   "execution_count": 7,
   "metadata": {
    "ExecuteTime": {
     "end_time": "2020-09-06T13:32:24.822468Z",
     "start_time": "2020-09-06T13:32:24.095504Z"
    }
   },
   "outputs": [],
   "source": [
    "#drop irrelevant features\n",
    "df1.drop(['index','merchant_code','card_present_flag'], axis=1, inplace=True) "
   ]
  },
  {
   "cell_type": "code",
   "execution_count": 8,
   "metadata": {
    "ExecuteTime": {
     "end_time": "2020-09-06T13:32:26.969171Z",
     "start_time": "2020-09-06T13:32:24.836438Z"
    }
   },
   "outputs": [],
   "source": [
    "# df1['annual_salary']= df1['amount']*(df2['amount']/3)*12\n",
    "\n",
    "df1['annual_salary']= (df1['amount'])*12    #calculate annual salary\n",
    "df1['other_trans']= (df_4['amount'])*12\n",
    "df1['count_trans']= df2['txn_description']*4"
   ]
  },
  {
   "cell_type": "code",
   "execution_count": 9,
   "metadata": {
    "ExecuteTime": {
     "end_time": "2020-09-06T13:32:27.000905Z",
     "start_time": "2020-09-06T13:32:26.981029Z"
    }
   },
   "outputs": [],
   "source": [
    "df1.drop(['amount','balance'], axis=1, inplace=True)"
   ]
  },
  {
   "cell_type": "code",
   "execution_count": 10,
   "metadata": {
    "ExecuteTime": {
     "end_time": "2020-09-06T13:32:27.902095Z",
     "start_time": "2020-09-06T13:32:27.013876Z"
    }
   },
   "outputs": [
    {
     "data": {
      "text/html": [
       "<div>\n",
       "<style scoped>\n",
       "    .dataframe tbody tr th:only-of-type {\n",
       "        vertical-align: middle;\n",
       "    }\n",
       "\n",
       "    .dataframe tbody tr th {\n",
       "        vertical-align: top;\n",
       "    }\n",
       "\n",
       "    .dataframe thead th {\n",
       "        text-align: right;\n",
       "    }\n",
       "</style>\n",
       "<table border=\"1\" class=\"dataframe\">\n",
       "  <thead>\n",
       "    <tr style=\"text-align: right;\">\n",
       "      <th></th>\n",
       "      <th>age</th>\n",
       "      <th>annual_salary</th>\n",
       "      <th>other_trans</th>\n",
       "      <th>count_trans</th>\n",
       "    </tr>\n",
       "    <tr>\n",
       "      <th>customer_id</th>\n",
       "      <th></th>\n",
       "      <th></th>\n",
       "      <th></th>\n",
       "      <th></th>\n",
       "    </tr>\n",
       "  </thead>\n",
       "  <tbody>\n",
       "    <tr>\n",
       "      <th>CUS-1005756958</th>\n",
       "      <td>53.0</td>\n",
       "      <td>11645.64</td>\n",
       "      <td>730.572000</td>\n",
       "      <td>52</td>\n",
       "    </tr>\n",
       "    <tr>\n",
       "      <th>CUS-1117979751</th>\n",
       "      <td>21.0</td>\n",
       "      <td>42943.80</td>\n",
       "      <td>1152.750968</td>\n",
       "      <td>28</td>\n",
       "    </tr>\n",
       "  </tbody>\n",
       "</table>\n",
       "</div>"
      ],
      "text/plain": [
       "                 age  annual_salary  other_trans  count_trans\n",
       "customer_id                                                  \n",
       "CUS-1005756958  53.0       11645.64   730.572000           52\n",
       "CUS-1117979751  21.0       42943.80  1152.750968           28"
      ]
     },
     "execution_count": 10,
     "metadata": {},
     "output_type": "execute_result"
    }
   ],
   "source": [
    "df1.head(2)"
   ]
  },
  {
   "cell_type": "code",
   "execution_count": 11,
   "metadata": {
    "ExecuteTime": {
     "end_time": "2020-09-06T13:32:38.121810Z",
     "start_time": "2020-09-06T13:32:27.908045Z"
    }
   },
   "outputs": [],
   "source": [
    "import statsmodels.api as sm\n",
    "import scipy.stats as stats"
   ]
  },
  {
   "cell_type": "code",
   "execution_count": 12,
   "metadata": {
    "ExecuteTime": {
     "end_time": "2020-09-06T13:32:38.206132Z",
     "start_time": "2020-09-06T13:32:38.127346Z"
    },
    "scrolled": true
   },
   "outputs": [
    {
     "data": {
      "text/html": [
       "<div>\n",
       "<style scoped>\n",
       "    .dataframe tbody tr th:only-of-type {\n",
       "        vertical-align: middle;\n",
       "    }\n",
       "\n",
       "    .dataframe tbody tr th {\n",
       "        vertical-align: top;\n",
       "    }\n",
       "\n",
       "    .dataframe thead th {\n",
       "        text-align: right;\n",
       "    }\n",
       "</style>\n",
       "<table border=\"1\" class=\"dataframe\">\n",
       "  <thead>\n",
       "    <tr style=\"text-align: right;\">\n",
       "      <th></th>\n",
       "      <th>age</th>\n",
       "      <th>annual_salary</th>\n",
       "      <th>other_trans</th>\n",
       "      <th>count_trans</th>\n",
       "    </tr>\n",
       "  </thead>\n",
       "  <tbody>\n",
       "    <tr>\n",
       "      <th>count</th>\n",
       "      <td>100.000000</td>\n",
       "      <td>100.000000</td>\n",
       "      <td>100.000000</td>\n",
       "      <td>100.000000</td>\n",
       "    </tr>\n",
       "    <tr>\n",
       "      <th>mean</th>\n",
       "      <td>31.770000</td>\n",
       "      <td>27567.286800</td>\n",
       "      <td>736.162527</td>\n",
       "      <td>35.320000</td>\n",
       "    </tr>\n",
       "    <tr>\n",
       "      <th>std</th>\n",
       "      <td>11.544254</td>\n",
       "      <td>16773.407644</td>\n",
       "      <td>344.607064</td>\n",
       "      <td>14.606543</td>\n",
       "    </tr>\n",
       "    <tr>\n",
       "      <th>min</th>\n",
       "      <td>18.000000</td>\n",
       "      <td>6912.000000</td>\n",
       "      <td>255.749149</td>\n",
       "      <td>8.000000</td>\n",
       "    </tr>\n",
       "    <tr>\n",
       "      <th>25%</th>\n",
       "      <td>22.000000</td>\n",
       "      <td>13839.720000</td>\n",
       "      <td>503.834073</td>\n",
       "      <td>24.000000</td>\n",
       "    </tr>\n",
       "    <tr>\n",
       "      <th>50%</th>\n",
       "      <td>29.500000</td>\n",
       "      <td>23393.160000</td>\n",
       "      <td>647.441870</td>\n",
       "      <td>28.000000</td>\n",
       "    </tr>\n",
       "    <tr>\n",
       "      <th>75%</th>\n",
       "      <td>39.250000</td>\n",
       "      <td>34640.700000</td>\n",
       "      <td>823.846800</td>\n",
       "      <td>52.000000</td>\n",
       "    </tr>\n",
       "    <tr>\n",
       "      <th>max</th>\n",
       "      <td>78.000000</td>\n",
       "      <td>106031.760000</td>\n",
       "      <td>2207.871045</td>\n",
       "      <td>56.000000</td>\n",
       "    </tr>\n",
       "  </tbody>\n",
       "</table>\n",
       "</div>"
      ],
      "text/plain": [
       "              age  annual_salary  other_trans  count_trans\n",
       "count  100.000000     100.000000   100.000000   100.000000\n",
       "mean    31.770000   27567.286800   736.162527    35.320000\n",
       "std     11.544254   16773.407644   344.607064    14.606543\n",
       "min     18.000000    6912.000000   255.749149     8.000000\n",
       "25%     22.000000   13839.720000   503.834073    24.000000\n",
       "50%     29.500000   23393.160000   647.441870    28.000000\n",
       "75%     39.250000   34640.700000   823.846800    52.000000\n",
       "max     78.000000  106031.760000  2207.871045    56.000000"
      ]
     },
     "execution_count": 12,
     "metadata": {},
     "output_type": "execute_result"
    }
   ],
   "source": [
    "df1.describe()"
   ]
  },
  {
   "cell_type": "code",
   "execution_count": 13,
   "metadata": {
    "ExecuteTime": {
     "end_time": "2020-09-06T13:32:38.854960Z",
     "start_time": "2020-09-06T13:32:38.211120Z"
    },
    "scrolled": true
   },
   "outputs": [],
   "source": [
    "# sns.boxplot(df1['annual_salary'])"
   ]
  },
  {
   "cell_type": "code",
   "execution_count": 14,
   "metadata": {
    "ExecuteTime": {
     "end_time": "2020-09-06T13:32:39.108446Z",
     "start_time": "2020-09-06T13:32:38.861896Z"
    },
    "scrolled": true
   },
   "outputs": [],
   "source": [
    "# sns.boxplot(df1['age'])"
   ]
  },
  {
   "cell_type": "code",
   "execution_count": 15,
   "metadata": {
    "ExecuteTime": {
     "end_time": "2020-09-06T13:32:39.340990Z",
     "start_time": "2020-09-06T13:32:39.118457Z"
    }
   },
   "outputs": [],
   "source": [
    "# sns.boxplot(df1['other_trans'])"
   ]
  },
  {
   "cell_type": "code",
   "execution_count": 16,
   "metadata": {
    "ExecuteTime": {
     "end_time": "2020-09-06T13:32:39.626299Z",
     "start_time": "2020-09-06T13:32:39.348901Z"
    }
   },
   "outputs": [],
   "source": [
    "#transform independent variables using appropriate transformation\n",
    "df1['other_trans']= np.sqrt(df1['other_trans'])\n",
    "df1['count_trans']= np.sqrt(df1['count_trans'])\n",
    "df1['age']= 1/ np.sqrt(df1['age'])\n",
    "# df1['balance']= 1/ np.sqrt(df1['balance'])"
   ]
  },
  {
   "cell_type": "code",
   "execution_count": 17,
   "metadata": {
    "ExecuteTime": {
     "end_time": "2020-09-06T13:32:39.857421Z",
     "start_time": "2020-09-06T13:32:39.634664Z"
    }
   },
   "outputs": [
    {
     "data": {
      "text/html": [
       "<div>\n",
       "<style scoped>\n",
       "    .dataframe tbody tr th:only-of-type {\n",
       "        vertical-align: middle;\n",
       "    }\n",
       "\n",
       "    .dataframe tbody tr th {\n",
       "        vertical-align: top;\n",
       "    }\n",
       "\n",
       "    .dataframe thead th {\n",
       "        text-align: right;\n",
       "    }\n",
       "</style>\n",
       "<table border=\"1\" class=\"dataframe\">\n",
       "  <thead>\n",
       "    <tr style=\"text-align: right;\">\n",
       "      <th></th>\n",
       "      <th>age</th>\n",
       "      <th>annual_salary</th>\n",
       "      <th>other_trans</th>\n",
       "      <th>count_trans</th>\n",
       "    </tr>\n",
       "  </thead>\n",
       "  <tbody>\n",
       "    <tr>\n",
       "      <th>age</th>\n",
       "      <td>1.000000</td>\n",
       "      <td>0.083551</td>\n",
       "      <td>-0.309846</td>\n",
       "      <td>-0.153050</td>\n",
       "    </tr>\n",
       "    <tr>\n",
       "      <th>annual_salary</th>\n",
       "      <td>0.083551</td>\n",
       "      <td>1.000000</td>\n",
       "      <td>-0.063802</td>\n",
       "      <td>-0.721290</td>\n",
       "    </tr>\n",
       "    <tr>\n",
       "      <th>other_trans</th>\n",
       "      <td>-0.309846</td>\n",
       "      <td>-0.063802</td>\n",
       "      <td>1.000000</td>\n",
       "      <td>0.128352</td>\n",
       "    </tr>\n",
       "    <tr>\n",
       "      <th>count_trans</th>\n",
       "      <td>-0.153050</td>\n",
       "      <td>-0.721290</td>\n",
       "      <td>0.128352</td>\n",
       "      <td>1.000000</td>\n",
       "    </tr>\n",
       "  </tbody>\n",
       "</table>\n",
       "</div>"
      ],
      "text/plain": [
       "                    age  annual_salary  other_trans  count_trans\n",
       "age            1.000000       0.083551    -0.309846    -0.153050\n",
       "annual_salary  0.083551       1.000000    -0.063802    -0.721290\n",
       "other_trans   -0.309846      -0.063802     1.000000     0.128352\n",
       "count_trans   -0.153050      -0.721290     0.128352     1.000000"
      ]
     },
     "execution_count": 17,
     "metadata": {},
     "output_type": "execute_result"
    }
   ],
   "source": [
    "df1.corr()"
   ]
  },
  {
   "cell_type": "code",
   "execution_count": 18,
   "metadata": {
    "ExecuteTime": {
     "end_time": "2020-09-06T13:32:44.168600Z",
     "start_time": "2020-09-06T13:32:39.869460Z"
    },
    "scrolled": false
   },
   "outputs": [
    {
     "data": {
      "text/plain": [
       "<seaborn.axisgrid.PairGrid at 0x2800045ef28>"
      ]
     },
     "execution_count": 18,
     "metadata": {},
     "output_type": "execute_result"
    },
    {
     "data": {
      "image/png": "[encoded data removed]",
      "text/plain": [
       "<Figure size 720x720 with 20 Axes>"
      ]
     },
     "metadata": {
      "needs_background": "light"
     },
     "output_type": "display_data"
    }
   ],
   "source": [
    "sns.pairplot(df1)"
   ]
  },
  {
   "cell_type": "code",
   "execution_count": 19,
   "metadata": {
    "ExecuteTime": {
     "end_time": "2020-09-06T13:32:48.893655Z",
     "start_time": "2020-09-06T13:32:44.202523Z"
    }
   },
   "outputs": [],
   "source": [
    "from sklearn.model_selection import train_test_split\n",
    "from sklearn.metrics import *\n",
    "from sklearn.linear_model import LinearRegression\n",
    "import xgboost\n",
    "from xgboost.sklearn import XGBRegressor"
   ]
  },
  {
   "cell_type": "code",
   "execution_count": 20,
   "metadata": {
    "ExecuteTime": {
     "end_time": "2020-09-06T13:32:48.905864Z",
     "start_time": "2020-09-06T13:32:48.900599Z"
    }
   },
   "outputs": [],
   "source": [
    "# specify the target variable\n",
    "target= df1['annual_salary']"
   ]
  },
  {
   "cell_type": "code",
   "execution_count": 21,
   "metadata": {
    "ExecuteTime": {
     "end_time": "2020-09-06T13:32:49.171593Z",
     "start_time": "2020-09-06T13:32:48.911673Z"
    }
   },
   "outputs": [],
   "source": [
    "df1.drop(['annual_salary'], axis=1, inplace=True)"
   ]
  },
  {
   "cell_type": "code",
   "execution_count": 22,
   "metadata": {
    "ExecuteTime": {
     "end_time": "2020-09-06T13:32:49.445669Z",
     "start_time": "2020-09-06T13:32:49.176582Z"
    }
   },
   "outputs": [
    {
     "data": {
      "text/html": [
       "<div>\n",
       "<style scoped>\n",
       "    .dataframe tbody tr th:only-of-type {\n",
       "        vertical-align: middle;\n",
       "    }\n",
       "\n",
       "    .dataframe tbody tr th {\n",
       "        vertical-align: top;\n",
       "    }\n",
       "\n",
       "    .dataframe thead th {\n",
       "        text-align: right;\n",
       "    }\n",
       "</style>\n",
       "<table border=\"1\" class=\"dataframe\">\n",
       "  <thead>\n",
       "    <tr style=\"text-align: right;\">\n",
       "      <th></th>\n",
       "      <th>age</th>\n",
       "      <th>other_trans</th>\n",
       "      <th>count_trans</th>\n",
       "    </tr>\n",
       "    <tr>\n",
       "      <th>customer_id</th>\n",
       "      <th></th>\n",
       "      <th></th>\n",
       "      <th></th>\n",
       "    </tr>\n",
       "  </thead>\n",
       "  <tbody>\n",
       "    <tr>\n",
       "      <th>CUS-1005756958</th>\n",
       "      <td>0.137361</td>\n",
       "      <td>27.029095</td>\n",
       "      <td>7.211103</td>\n",
       "    </tr>\n",
       "    <tr>\n",
       "      <th>CUS-1117979751</th>\n",
       "      <td>0.218218</td>\n",
       "      <td>33.952186</td>\n",
       "      <td>5.291503</td>\n",
       "    </tr>\n",
       "  </tbody>\n",
       "</table>\n",
       "</div>"
      ],
      "text/plain": [
       "                     age  other_trans  count_trans\n",
       "customer_id                                       \n",
       "CUS-1005756958  0.137361    27.029095     7.211103\n",
       "CUS-1117979751  0.218218    33.952186     5.291503"
      ]
     },
     "execution_count": 22,
     "metadata": {},
     "output_type": "execute_result"
    }
   ],
   "source": [
    "df1.head(2)"
   ]
  },
  {
   "cell_type": "code",
   "execution_count": 23,
   "metadata": {
    "ExecuteTime": {
     "end_time": "2020-09-06T13:32:49.707254Z",
     "start_time": "2020-09-06T13:32:49.459630Z"
    }
   },
   "outputs": [],
   "source": [
    "from sklearn.preprocessing import StandardScaler\n",
    "train_s = StandardScaler().fit_transform(df1)\n",
    "s_train = pd.DataFrame(train_s, columns = df1.columns)"
   ]
  },
  {
   "cell_type": "code",
   "execution_count": 24,
   "metadata": {
    "ExecuteTime": {
     "end_time": "2020-09-06T13:32:50.018373Z",
     "start_time": "2020-09-06T13:32:49.713627Z"
    }
   },
   "outputs": [],
   "source": [
    "#train and test split for model validation\n",
    "x_train, x_test, y_train, y_test=  train_test_split(s_train,target, test_size= 0.3, random_state= 0)"
   ]
  },
  {
   "cell_type": "markdown",
   "metadata": {},
   "source": [
    "## A. Linear Regression"
   ]
  },
  {
   "cell_type": "code",
   "execution_count": 25,
   "metadata": {
    "ExecuteTime": {
     "end_time": "2020-09-06T13:32:50.426424Z",
     "start_time": "2020-09-06T13:32:50.021996Z"
    }
   },
   "outputs": [
    {
     "name": "stdout",
     "output_type": "stream",
     "text": [
      "                            OLS Regression Results                            \n",
      "==============================================================================\n",
      "Dep. Variable:          annual_salary   R-squared:                       0.521\n",
      "Model:                            OLS   Adj. R-squared:                  0.507\n",
      "Method:                 Least Squares   F-statistic:                     34.87\n",
      "Date:                Sun, 06 Sep 2020   Prob (F-statistic):           2.48e-15\n",
      "Time:                        19:02:50   Log-Likelihood:                -1077.3\n",
      "No. Observations:                 100   AIC:                             2163.\n",
      "Df Residuals:                      96   BIC:                             2173.\n",
      "Df Model:                           3                                         \n",
      "Covariance Type:            nonrobust                                         \n",
      "===============================================================================\n",
      "                  coef    std err          t      P>|t|      [0.025      0.975]\n",
      "-------------------------------------------------------------------------------\n",
      "const        8.348e+04   1.24e+04      6.749      0.000    5.89e+04    1.08e+05\n",
      "age         -1.133e+04   4.11e+04     -0.275      0.784    -9.3e+04    7.03e+04\n",
      "other_trans    67.3399    216.518      0.311      0.756    -362.446     497.125\n",
      "count_trans -9575.2196    943.937    -10.144      0.000   -1.14e+04   -7701.519\n",
      "==============================================================================\n",
      "Omnibus:                       46.466   Durbin-Watson:                   2.193\n",
      "Prob(Omnibus):                  0.000   Jarque-Bera (JB):              182.595\n",
      "Skew:                           1.493   Prob(JB):                     2.24e-40\n",
      "Kurtosis:                       8.908   Cond. No.                         998.\n",
      "==============================================================================\n",
      "\n",
      "Warnings:\n",
      "[1] Standard Errors assume that the covariance matrix of the errors is correctly specified.\n"
     ]
    }
   ],
   "source": [
    "#regression summary\n",
    "X2 = sm.add_constant(df1)\n",
    "est = sm.OLS(target, X2)\n",
    "est2 = est.fit()\n",
    "print(est2.summary())"
   ]
  },
  {
   "cell_type": "code",
   "execution_count": 26,
   "metadata": {
    "ExecuteTime": {
     "end_time": "2020-09-06T13:32:50.765762Z",
     "start_time": "2020-09-06T13:32:50.432409Z"
    }
   },
   "outputs": [],
   "source": [
    "#fit the regression model and generate predictions\n",
    "lr= LinearRegression()\n",
    "lr.fit(x_train, y_train)\n",
    "y_pred = lr.predict(x_test)"
   ]
  },
  {
   "cell_type": "code",
   "execution_count": 27,
   "metadata": {
    "ExecuteTime": {
     "end_time": "2020-09-06T13:32:51.058905Z",
     "start_time": "2020-09-06T13:32:50.768671Z"
    }
   },
   "outputs": [],
   "source": [
    "#calculate residuals to further examine the assumptions of regression model\n",
    "resid= y_test - y_pred"
   ]
  },
  {
   "cell_type": "markdown",
   "metadata": {},
   "source": [
    "## Checking the assumptions of regression model"
   ]
  },
  {
   "cell_type": "markdown",
   "metadata": {},
   "source": [
    "### 1. For checking linearity in regression model\n",
    "To detect nonlinearity we inspect plots of observed vs. predicted values or residuals vs. predicted values. \n",
    "The desired outcome is that points are symmetrically distributed around a diagonal line in the former plot or around a horizontal line in the latter one. In both cases with a roughly constant variance.\n",
    "Observing a ‘bowed’ pattern indicates that the model makes systematic errors whenever it is making unusually large or\n",
    "small predictions."
   ]
  },
  {
   "cell_type": "code",
   "execution_count": 28,
   "metadata": {
    "ExecuteTime": {
     "end_time": "2020-09-06T13:32:51.936429Z",
     "start_time": "2020-09-06T13:32:51.060890Z"
    },
    "scrolled": true
   },
   "outputs": [
    {
     "data": {
      "text/plain": [
       "[Text(0, 0.5, 'Residuals'), Text(0.5, 0, 'Predicted')]"
      ]
     },
     "execution_count": 28,
     "metadata": {},
     "output_type": "execute_result"
    },
    {
     "data": {
      "image/png": "[encoded data removed]",
      "text/plain": [
       "<Figure size 432x288 with 2 Axes>"
      ]
     },
     "metadata": {
      "needs_background": "light"
     },
     "output_type": "display_data"
    }
   ],
   "source": [
    "fig, ax = plt.subplots(1,2)\n",
    "    \n",
    "sns.regplot(x=y_pred, y=y_test, lowess=True, ax=ax[0], line_kws={'color': 'red'})\n",
    "ax[0].set_title('Observed vs. Predicted Values', fontsize=8)\n",
    "ax[0].set(xlabel='Predicted', ylabel='Observed')\n",
    "\n",
    "sns.regplot(x=y_pred, y=resid, lowess=True, ax=ax[1], line_kws={'color': 'red'})\n",
    "ax[1].set_title('Residuals vs. Predicted Values', fontsize=8)\n",
    "ax[1].set(xlabel='Predicted', ylabel='Residuals')"
   ]
  },
  {
   "cell_type": "markdown",
   "metadata": {},
   "source": [
    "#### Linearity assumption is not satisfied, therefore, the regression model might not produce the best results."
   ]
  },
  {
   "cell_type": "markdown",
   "metadata": {},
   "source": [
    "### 2. Checking for Mutlicollinearity\n",
    "We look at the VIF. We can detect multicollinearity using the variance inflation factor (VIF). The interpretation of VIF is as follows: the square root of a given variable’s VIF shows how much larger the standard error is, compared with what it would be if that predictor were uncorrelated with the other features in the model. If no features are correlated, then all values for VIF will be 1. A rule of thumb for removal could be VIF larger than 10"
   ]
  },
  {
   "cell_type": "code",
   "execution_count": 29,
   "metadata": {
    "ExecuteTime": {
     "end_time": "2020-09-06T13:32:52.036000Z",
     "start_time": "2020-09-06T13:32:51.939421Z"
    }
   },
   "outputs": [
    {
     "name": "stdout",
     "output_type": "stream",
     "text": [
      "     variables       VIF\n",
      "0          age  1.105855\n",
      "1  other_trans  1.104682\n",
      "2  count_trans  1.041447\n"
     ]
    }
   ],
   "source": [
    "from statsmodels.stats.outliers_influence import variance_inflation_factor\n",
    "\n",
    "# Calculating VIF\n",
    "vif = pd.DataFrame()\n",
    "vif[\"variables\"] = x_train.columns\n",
    "vif[\"VIF\"] = [variance_inflation_factor(x_train.values, i) for i in range(x_train.shape[1])]\n",
    "\n",
    "print(vif)"
   ]
  },
  {
   "cell_type": "markdown",
   "metadata": {},
   "source": [
    "### 3. Checking for homoscedasticity of residuals\n",
    " We can use statistical test to check for homescedastic residuals: Breusch-Pagan test. The null hypothesis assumes homoscedasticity and a p-value below a certain level indicates we should reject the null in favor of heteroscedasticity."
   ]
  },
  {
   "cell_type": "code",
   "execution_count": 30,
   "metadata": {
    "ExecuteTime": {
     "end_time": "2020-09-06T13:32:52.366049Z",
     "start_time": "2020-09-06T13:32:52.043971Z"
    }
   },
   "outputs": [
    {
     "name": "stdout",
     "output_type": "stream",
     "text": [
      "                                  value\n",
      "Lagrange multiplier statistic  6.028501\n",
      "p-value                        0.049083\n",
      "f-value                        2.263376\n",
      "f p-value                      0.103838\n"
     ]
    }
   ],
   "source": [
    "import statsmodels.stats.api as sms\n",
    "bp_test = pd.DataFrame(sms.het_breuschpagan(resid, x_test[['age','other_trans', 'count_trans']]), \n",
    "                           columns=['value'],\n",
    "                           index=['Lagrange multiplier statistic', 'p-value', 'f-value', 'f p-value'])\n",
    "print(bp_test)"
   ]
  },
  {
   "cell_type": "markdown",
   "metadata": {},
   "source": [
    "### 4. Checking for autocorrelation of residuals\n",
    "To investigate if autocorrelation is present, we use ACF (autocorrelation function) plots and Durbin-Watson test. In the former case, we want to see if the value of ACF is significant for any lag (in case of no time-series data, the row number is used). While calling the function, we indicate the significance level we are interested in and the critical area is plotted on the graph. Significant correlations lie outside of that area.\n",
    "\n",
    "The second approach is using the Durbin-Watson test. And this statistics is already available in regression summary\n",
    "the test statistic always has a value between 0 and 4\n",
    "value of 2 means that there is no autocorrelation in the sample\n",
    "values < 2 indicate positive autocorrelation, values > 2 negative one."
   ]
  },
  {
   "cell_type": "code",
   "execution_count": 31,
   "metadata": {
    "ExecuteTime": {
     "end_time": "2020-09-06T13:32:53.107533Z",
     "start_time": "2020-09-06T13:32:52.376976Z"
    }
   },
   "outputs": [
    {
     "name": "stderr",
     "output_type": "stream",
     "text": [
      "C:\\Users\\JYOTI\\Anaconda3\\lib\\site-packages\\matplotlib\\figure.py:445: UserWarning: Matplotlib is currently using module://ipykernel.pylab.backend_inline, which is a non-GUI backend, so cannot show the figure.\n",
      "  % get_backend())\n"
     ]
    },
    {
     "data": {
      "image/png": "[encoded data removed]",
      "text/plain": [
       "<Figure size 432x288 with 1 Axes>"
      ]
     },
     "metadata": {
      "needs_background": "light"
     },
     "output_type": "display_data"
    }
   ],
   "source": [
    "#plotting acf(autocorrealtion function)\n",
    "import statsmodels.tsa.api as smt\n",
    "\n",
    "acf = smt.graphics.plot_acf(resid, lags=29 , alpha=0.05)\n",
    "acf.show()"
   ]
  },
  {
   "cell_type": "markdown",
   "metadata": {},
   "source": [
    "### 5. Checking if the features and residuals are uncorrelated"
   ]
  },
  {
   "cell_type": "code",
   "execution_count": 32,
   "metadata": {
    "ExecuteTime": {
     "end_time": "2020-09-06T13:32:53.129474Z",
     "start_time": "2020-09-06T13:32:53.112519Z"
    }
   },
   "outputs": [
    {
     "name": "stdout",
     "output_type": "stream",
     "text": [
      "age --correlation: 0.1190, p-value: 0.5310\n",
      "other_trans --correlation: -0.3188, p-value: 0.0859\n",
      "count_trans --correlation: 0.4281, p-value: 0.0183\n"
     ]
    }
   ],
   "source": [
    "from scipy.stats.stats import pearsonr\n",
    "\n",
    "for column in x_test.columns:\n",
    "    corr_test = pearsonr(x_test[column], resid)\n",
    "    print(f'{column} --correlation: {corr_test[0]:.4f}, p-value: {corr_test[1]:.4f}')\n"
   ]
  },
  {
   "cell_type": "markdown",
   "metadata": {},
   "source": [
    "### 6. Checking for the normality of residuals\n",
    "To investigate this assumption we can look at:\n",
    "1) QQ plots of the residuals. A bow-shaped pattern of deviations from the diagonal implies that the residuals have excessive skewness (i.e., the distribution is not symmetrical, with too many large residuals in one direction). The s-shaped pattern of deviations implies excessive kurtosis of the residuals — there are either too many or two few large errors in both directions. 2) use statistical tests such as the Kolmogorov-Smirnov test, the Shapiro-Wilk test, the Jarque-Bera test, and the Anderson-Darling test\n"
   ]
  },
  {
   "cell_type": "code",
   "execution_count": 33,
   "metadata": {
    "ExecuteTime": {
     "end_time": "2020-09-06T13:32:53.891055Z",
     "start_time": "2020-09-06T13:32:53.135494Z"
    }
   },
   "outputs": [
    {
     "name": "stdout",
     "output_type": "stream",
     "text": [
      "Jarque-Bera test statistic: 1.4463, p-value: 0.4852261869833422\n",
      "Shapiro-Wilk test statistic: 0.9539, p-value: 0.2147\n"
     ]
    },
    {
     "data": {
      "image/png": "[encoded data removed]",
      "text/plain": [
       "<Figure size 432x288 with 1 Axes>"
      ]
     },
     "metadata": {
      "needs_background": "light"
     },
     "output_type": "display_data"
    }
   ],
   "source": [
    "sm.ProbPlot(resid).qqplot(line='s');\n",
    "plt.title('Q-Q plot');\n",
    "\n",
    "jb = stats.jarque_bera(resid)\n",
    "sw = stats.shapiro(resid)\n",
    "ad = stats.anderson(resid, dist='norm')\n",
    "ks = stats.kstest(resid, 'norm')\n",
    "    \n",
    "print(f'Jarque-Bera test statistic: {jb[0]:.4f}, p-value: {jb[1]}')\n",
    "print(f'Shapiro-Wilk test statistic: {sw[0]:.4f}, p-value: {sw[1]:.4f}')\n"
   ]
  },
  {
   "cell_type": "markdown",
   "metadata": {},
   "source": [
    "#### All other assumptions of the regression model except the linearity in model are satisfied. "
   ]
  },
  {
   "cell_type": "code",
   "execution_count": 34,
   "metadata": {
    "ExecuteTime": {
     "end_time": "2020-09-06T13:32:53.921972Z",
     "start_time": "2020-09-06T13:32:53.896042Z"
    }
   },
   "outputs": [
    {
     "data": {
      "text/html": [
       "<div>\n",
       "<style scoped>\n",
       "    .dataframe tbody tr th:only-of-type {\n",
       "        vertical-align: middle;\n",
       "    }\n",
       "\n",
       "    .dataframe tbody tr th {\n",
       "        vertical-align: top;\n",
       "    }\n",
       "\n",
       "    .dataframe thead th {\n",
       "        text-align: right;\n",
       "    }\n",
       "</style>\n",
       "<table border=\"1\" class=\"dataframe\">\n",
       "  <thead>\n",
       "    <tr style=\"text-align: right;\">\n",
       "      <th></th>\n",
       "      <th>Actual</th>\n",
       "      <th>Predicted</th>\n",
       "    </tr>\n",
       "    <tr>\n",
       "      <th>customer_id</th>\n",
       "      <th></th>\n",
       "      <th></th>\n",
       "    </tr>\n",
       "  </thead>\n",
       "  <tbody>\n",
       "    <tr>\n",
       "      <th>CUS-1790886359</th>\n",
       "      <td>36853.68</td>\n",
       "      <td>33394.051735</td>\n",
       "    </tr>\n",
       "    <tr>\n",
       "      <th>CUS-443776336</th>\n",
       "      <td>11886.60</td>\n",
       "      <td>9956.162707</td>\n",
       "    </tr>\n",
       "    <tr>\n",
       "      <th>CUS-1140341822</th>\n",
       "      <td>22998.12</td>\n",
       "      <td>38706.033490</td>\n",
       "    </tr>\n",
       "    <tr>\n",
       "      <th>CUS-2695611575</th>\n",
       "      <td>11009.40</td>\n",
       "      <td>12273.595214</td>\n",
       "    </tr>\n",
       "    <tr>\n",
       "      <th>CUS-3395687666</th>\n",
       "      <td>21093.72</td>\n",
       "      <td>40967.457282</td>\n",
       "    </tr>\n",
       "  </tbody>\n",
       "</table>\n",
       "</div>"
      ],
      "text/plain": [
       "                  Actual     Predicted\n",
       "customer_id                           \n",
       "CUS-1790886359  36853.68  33394.051735\n",
       "CUS-443776336   11886.60   9956.162707\n",
       "CUS-1140341822  22998.12  38706.033490\n",
       "CUS-2695611575  11009.40  12273.595214\n",
       "CUS-3395687666  21093.72  40967.457282"
      ]
     },
     "execution_count": 34,
     "metadata": {},
     "output_type": "execute_result"
    }
   ],
   "source": [
    "df_c = pd.DataFrame({'Actual': y_test, 'Predicted': y_pred})\n",
    "df_c.tail()"
   ]
  },
  {
   "cell_type": "code",
   "execution_count": 1,
   "metadata": {
    "ExecuteTime": {
     "end_time": "2020-09-21T14:19:37.046633Z",
     "start_time": "2020-09-21T14:19:36.832339Z"
    }
   },
   "outputs": [
    {
     "ename": "NameError",
     "evalue": "name 'x_test' is not defined",
     "output_type": "error",
     "traceback": [
      "\u001b[1;31m---------------------------------------------------------------------------\u001b[0m",
      "\u001b[1;31mNameError\u001b[0m                                 Traceback (most recent call last)",
      "\u001b[1;32m<ipython-input-1-ebd2cb5930d5>\u001b[0m in \u001b[0;36m<module>\u001b[1;34m\u001b[0m\n\u001b[0;32m      1\u001b[0m \u001b[1;31m# plot Actual vs Predicted\u001b[0m\u001b[1;33m\u001b[0m\u001b[1;33m\u001b[0m\u001b[1;33m\u001b[0m\u001b[0m\n\u001b[1;32m----> 2\u001b[1;33m \u001b[0mc\u001b[0m \u001b[1;33m=\u001b[0m \u001b[1;33m[\u001b[0m\u001b[0mi\u001b[0m \u001b[1;32mfor\u001b[0m \u001b[0mi\u001b[0m \u001b[1;32min\u001b[0m \u001b[0mrange\u001b[0m\u001b[1;33m(\u001b[0m\u001b[0mlen\u001b[0m\u001b[1;33m(\u001b[0m\u001b[0mx_test\u001b[0m\u001b[1;33m)\u001b[0m\u001b[1;33m)\u001b[0m\u001b[1;33m]\u001b[0m\u001b[1;33m\u001b[0m\u001b[1;33m\u001b[0m\u001b[0m\n\u001b[0m\u001b[0;32m      3\u001b[0m \u001b[0mfig\u001b[0m \u001b[1;33m=\u001b[0m \u001b[0mplt\u001b[0m\u001b[1;33m.\u001b[0m\u001b[0mfigure\u001b[0m\u001b[1;33m(\u001b[0m\u001b[1;33m)\u001b[0m\u001b[1;31m# plot Actual vs Predicted\u001b[0m\u001b[1;33m\u001b[0m\u001b[1;33m\u001b[0m\u001b[0m\n\u001b[0;32m      4\u001b[0m \u001b[0mplt\u001b[0m\u001b[1;33m.\u001b[0m\u001b[0mplot\u001b[0m\u001b[1;33m(\u001b[0m\u001b[0mc\u001b[0m\u001b[1;33m,\u001b[0m\u001b[0my_test\u001b[0m\u001b[1;33m,\u001b[0m \u001b[0mcolor\u001b[0m\u001b[1;33m=\u001b[0m\u001b[1;34m\"blue\"\u001b[0m\u001b[1;33m,\u001b[0m \u001b[0mlinewidth\u001b[0m\u001b[1;33m=\u001b[0m\u001b[1;36m3.5\u001b[0m\u001b[1;33m)\u001b[0m     \u001b[1;31m#Plotting Actual\u001b[0m\u001b[1;33m\u001b[0m\u001b[1;33m\u001b[0m\u001b[0m\n\u001b[0;32m      5\u001b[0m \u001b[0mplt\u001b[0m\u001b[1;33m.\u001b[0m\u001b[0mplot\u001b[0m\u001b[1;33m(\u001b[0m\u001b[0mc\u001b[0m\u001b[1;33m,\u001b[0m\u001b[0my_pred\u001b[0m\u001b[1;33m,\u001b[0m \u001b[0mcolor\u001b[0m\u001b[1;33m=\u001b[0m\u001b[1;34m\"red\"\u001b[0m\u001b[1;33m,\u001b[0m  \u001b[0mlinewidth\u001b[0m\u001b[1;33m=\u001b[0m\u001b[1;36m3.5\u001b[0m\u001b[1;33m,\u001b[0m \u001b[0mlinestyle\u001b[0m\u001b[1;33m=\u001b[0m\u001b[1;34m\"-\"\u001b[0m\u001b[1;33m)\u001b[0m  \u001b[1;31m#Plotting predicted\u001b[0m\u001b[1;33m\u001b[0m\u001b[1;33m\u001b[0m\u001b[0m\n",
      "\u001b[1;31mNameError\u001b[0m: name 'x_test' is not defined"
     ]
    }
   ],
   "source": [
    "# plot Actual vs Predicted\n",
    "c = [i for i in range(len(x_test))]\n",
    "fig = plt.figure()# plot Actual vs Predicted\n",
    "plt.plot(c,y_test, color=\"blue\", linewidth=3.5, linestyle=\"-\")     #Plotting Actual\n",
    "plt.plot(c,y_pred, color=\"red\",  linewidth=3.5, linestyle=\"-\")  #Plotting predicted\n",
    "fig.suptitle('Actual and Predicted', fontsize=20)              # Plot heading \n",
    "plt.xlabel('Index', fontsize=18)                               # X-label\n",
    "plt.ylabel('salary', fontsize=16)"
   ]
  },
  {
   "cell_type": "code",
   "execution_count": 36,
   "metadata": {
    "ExecuteTime": {
     "end_time": "2020-09-06T13:32:54.522503Z",
     "start_time": "2020-09-06T13:32:54.503735Z"
    }
   },
   "outputs": [
    {
     "name": "stdout",
     "output_type": "stream",
     "text": [
      "Mean Squared Error: 128230787.36189128\n",
      "Root Mean Squared Error: 11323.9033624405\n",
      "r2_score: 0.056708082159477535\n"
     ]
    }
   ],
   "source": [
    "#Model evaluation \n",
    "print('Mean Squared Error:', mean_squared_error(y_test, y_pred))  \n",
    "print('Root Mean Squared Error:', np.sqrt(mean_squared_error(y_test, y_pred)))\n",
    "print('r2_score:', r2_score(y_test, y_pred))"
   ]
  },
  {
   "cell_type": "markdown",
   "metadata": {},
   "source": [
    "## B. Decision Tree Regressor"
   ]
  },
  {
   "cell_type": "code",
   "execution_count": 37,
   "metadata": {
    "ExecuteTime": {
     "end_time": "2020-09-06T13:32:54.840244Z",
     "start_time": "2020-09-06T13:32:54.524980Z"
    }
   },
   "outputs": [],
   "source": [
    "from sklearn.tree import DecisionTreeRegressor\n",
    "dt= DecisionTreeRegressor(random_state=0)\n",
    "dt.fit(x_train, y_train)\n",
    "y_pred= dt.predict(x_test)"
   ]
  },
  {
   "cell_type": "code",
   "execution_count": 38,
   "metadata": {
    "ExecuteTime": {
     "end_time": "2020-09-06T13:32:55.374793Z",
     "start_time": "2020-09-06T13:32:54.849221Z"
    }
   },
   "outputs": [
    {
     "data": {
      "text/plain": [
       "Text(0, 0.5, 'salary')"
      ]
     },
     "execution_count": 38,
     "metadata": {},
     "output_type": "execute_result"
    },
    {
     "data": {
      "image/png": "[encoded data removed]",
      "text/plain": [
       "<Figure size 432x288 with 1 Axes>"
      ]
     },
     "metadata": {
      "needs_background": "light"
     },
     "output_type": "display_data"
    }
   ],
   "source": [
    "# plot Actual vs Predicted\n",
    "c = [i for i in range(len(x_test))]\n",
    "fig = plt.figure()\n",
    "plt.plot(c,y_test, color=\"blue\", linewidth=3.5, linestyle=\"-\")     #Plotting Actual\n",
    "plt.plot(c,y_pred, color=\"red\",  linewidth=3.5, linestyle=\"-\")  #Plotting predicted\n",
    "fig.suptitle('Actual and Predicted', fontsize=20)              # Plot heading \n",
    "plt.xlabel('Index', fontsize=18)                               # X-label\n",
    "plt.ylabel('salary', fontsize=16)\n",
    "# Text(0, 0.5, 'salary')"
   ]
  },
  {
   "cell_type": "code",
   "execution_count": 39,
   "metadata": {
    "ExecuteTime": {
     "end_time": "2020-09-06T13:32:55.394416Z",
     "start_time": "2020-09-06T13:32:55.378522Z"
    }
   },
   "outputs": [
    {
     "name": "stdout",
     "output_type": "stream",
     "text": [
      "Root Mean Squared Error: 9982.054861359962\n"
     ]
    }
   ],
   "source": [
    "#Model evaluation \n",
    "# print('Mean Squared Error:', mean_squared_error(y_test, y_pred))  \n",
    "print('Root Mean Squared Error:', np.sqrt(mean_squared_error(y_test, y_pred)))"
   ]
  },
  {
   "cell_type": "markdown",
   "metadata": {},
   "source": [
    "### Linearity assumption for regression model was violated and because decision tree models map non-linear relationship well, we can see an improvement in results obtained by using Decision Tree model. \n",
    "### The RMSE for Decision tree model decreased to 9982.05 whereas it is 11323.90 for Multiple Regression model.\n",
    "\n",
    "\n"
   ]
  }
 ],
 "metadata": {
  "kernelspec": {
   "display_name": "Python 3",
   "language": "python",
   "name": "python3"
  },
  "language_info": {
   "codemirror_mode": {
    "name": "ipython",
    "version": 3
   },
   "file_extension": ".py",
   "mimetype": "text/x-python",
   "name": "python",
   "nbconvert_exporter": "python",
   "pygments_lexer": "ipython3",
   "version": "3.7.3"
  }
 },
 "nbformat": 4,
 "nbformat_minor": 2
}
